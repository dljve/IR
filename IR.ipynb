{
 "cells": [
  {
   "cell_type": "code",
   "execution_count": 2,
   "metadata": {},
   "outputs": [],
   "source": [
    "anserini_root = 'D:/python/anserini' \n",
    "import os, sys\n",
    "sys.path += [os.path.join(anserini_root, 'src/main/python')]"
   ]
  },
  {
   "cell_type": "code",
   "execution_count": 28,
   "metadata": {},
   "outputs": [
    {
     "name": "stdout",
     "output_type": "stream",
     "text": [
      "   Doc ID          Score\n",
      " 1 LA071090-0047   16.85690\n",
      " 2 FT934-5418      16.75630\n",
      " 3 FT921-7107      16.68290\n",
      " 4 LA052890-0021   16.37390\n",
      " 5 LA070990-0052   16.36460\n",
      " 6 LA062990-0180   16.19260\n",
      " 7 LA070890-0154   16.15610\n",
      " 8 FT934-2516      16.08950\n",
      " 9 LA041090-0148   16.08810\n",
      "10 FT944-128       16.01920\n",
      " 1 FT934-5418      5.24090\n",
      " 2 LA071090-0047   5.19570\n",
      " 3 LA070990-0052   4.94740\n",
      " 4 LA052890-0021   4.93000\n",
      " 5 FT921-7107      4.91800\n",
      " 6 LA062990-0180   4.89580\n",
      " 7 FT934-2516      4.80640\n",
      " 8 LA070890-0154   4.78170\n",
      " 9 LA041490-0064   4.74820\n",
      "10 LA040190-0178   4.73550\n"
     ]
    }
   ],
   "source": [
    "from pyserini.search import SimpleSearcher\n",
    "\n",
    "#searcher = SimpleSearcher('indexes/index-robust04-20191213/')\n",
    "searcher = SimpleSearcher('D:/python/anserini/lucene-index.robust04.pos+docvectors+rawdocs')\n",
    "hits = searcher.search('hubble space telescope')\n",
    "\n",
    "# Print the first 10 hits:\n",
    "print(f\"   {'Doc ID':15} Score\")\n",
    "for i in range(0, 10):\n",
    "    print(f'{i+1:2} {hits[i].docid:15} {hits[i].score:.5f}')\n",
    "    \n",
    "searcher.set_bm25(0.9, 0.4)\n",
    "searcher.set_rm3(10, 10, 0.5,rm3_output_query=True)\n",
    "\n",
    "hits2 = searcher.search('hubble space telescope')\n",
    "\n",
    "# Print the first 10 hits:\n",
    "for i in range(0, 10):\n",
    "    print(f'{i+1:2} {hits2[i].docid:15} {hits2[i].score:.5f}')\n",
    "    \n",
    "searcher.unset_rm3()"
   ]
  },
  {
   "cell_type": "code",
   "execution_count": 29,
   "metadata": {},
   "outputs": [
    {
     "name": "stdout",
     "output_type": "stream",
     "text": [
      " 1 LA071090-0047   16.85690\n",
      " 2 FT934-5418      16.75630\n",
      " 3 FT921-7107      16.68290\n",
      " 4 LA052890-0021   16.37390\n",
      " 5 LA070990-0052   16.36460\n",
      " 6 LA062990-0180   16.19260\n",
      " 7 LA070890-0154   16.15610\n",
      " 8 FT934-2516      16.08950\n",
      " 9 LA041090-0148   16.08810\n",
      "10 FT944-128       16.01920\n"
     ]
    }
   ],
   "source": [
    "from pyserini.search import querybuilder\n",
    "\n",
    "# First, create term queries for each individual query term:\n",
    "term1 = querybuilder.get_term_query('hubbl')\n",
    "term2 = querybuilder.get_term_query('space')\n",
    "term3 = querybuilder.get_term_query('telescop')\n",
    "\n",
    "term4 = querybuilder.get_term_query('astronom')\n",
    "term5 = querybuilder.get_term_query('univers')\n",
    "term6 = querybuilder.get_term_query('light')\n",
    "term7 = querybuilder.get_term_query('nasa')\n",
    "term8 = querybuilder.get_term_query('mission')\n",
    "term9 = querybuilder.get_term_query('optic')\n",
    "term10 = querybuilder.get_term_query('mirror')\n",
    "\n",
    "# Then, assemble into a \"bag of words\" query:\n",
    "should = querybuilder.JBooleanClauseOccur['should'].value\n",
    "\n",
    "boolean_query_builder = querybuilder.get_boolean_query_builder()\n",
    "boolean_query_builder.add(term1, should)\n",
    "boolean_query_builder.add(term2, should)\n",
    "boolean_query_builder.add(term3, should)\n",
    "\n",
    "query = boolean_query_builder.build()\n",
    "\n",
    "hits = searcher.search(query)\n",
    "\n",
    "for i in range(0, 10):\n",
    "    print(f'{i+1:2} {hits[i].docid:15} {hits[i].score:.5f}')"
   ]
  },
  {
   "cell_type": "code",
   "execution_count": 30,
   "metadata": {},
   "outputs": [
    {
     "name": "stdout",
     "output_type": "stream",
     "text": [
      " 1 FT934-5418      5.19280\n",
      " 2 LA071090-0047   5.16030\n",
      " 3 LA070990-0052   4.94740\n",
      " 4 LA062990-0180   4.89580\n",
      " 5 LA052890-0021   4.86860\n",
      " 6 FT921-7107      4.85180\n",
      " 7 LA070890-0154   4.78170\n",
      " 8 FT934-2516      4.75940\n",
      " 9 LA040190-0178   4.73550\n",
      "10 LA041490-0064   4.70390\n"
     ]
    }
   ],
   "source": [
    "boost1 = querybuilder.get_boost_query(term1, 0.26002878)\n",
    "boost2 = querybuilder.get_boost_query(term2, 0.23582985)\n",
    "boost3 = querybuilder.get_boost_query(term3, 0.27261537)\n",
    "boost4 = querybuilder.get_boost_query(term4, 0.026429813)\n",
    "boost5 = querybuilder.get_boost_query(term5, 0.027410464)\n",
    "boost6 = querybuilder.get_boost_query(term6, 0.022568017)\n",
    "boost7 = querybuilder.get_boost_query(term7, 0.06740909)\n",
    "boost8 = querybuilder.get_boost_query(term8, 0.03151296)\n",
    "boost9 = querybuilder.get_boost_query(term9, 0.020211682)\n",
    "boost10 = querybuilder.get_boost_query(term10, 0.03598397)\n",
    "\n",
    "should = querybuilder.JBooleanClauseOccur['should'].value\n",
    "\n",
    "boolean_query_builder = querybuilder.get_boolean_query_builder()\n",
    "boolean_query_builder.add(boost1, should)\n",
    "boolean_query_builder.add(boost2, should)\n",
    "boolean_query_builder.add(boost3, should)\n",
    "boolean_query_builder.add(boost4, should)\n",
    "boolean_query_builder.add(boost5, should)\n",
    "boolean_query_builder.add(boost6, should)\n",
    "boolean_query_builder.add(boost7, should)\n",
    "boolean_query_builder.add(boost8, should)\n",
    "boolean_query_builder.add(boost9, should)\n",
    "boolean_query_builder.add(boost10, should)\n",
    "\n",
    "query = boolean_query_builder.build()\n",
    "\n",
    "hits = searcher.search(query)\n",
    "\n",
    "for i in range(0, 10):\n",
    "    print(f'{i+1:2} {hits[i].docid:15} {hits[i].score:.5f}')"
   ]
  },
  {
   "cell_type": "markdown",
   "metadata": {},
   "source": [
    "<hr>"
   ]
  },
  {
   "cell_type": "code",
   "execution_count": 121,
   "metadata": {},
   "outputs": [
    {
     "data": {
      "text/html": [
       "<div>\n",
       "<style scoped>\n",
       "    .dataframe tbody tr th:only-of-type {\n",
       "        vertical-align: middle;\n",
       "    }\n",
       "\n",
       "    .dataframe tbody tr th {\n",
       "        vertical-align: top;\n",
       "    }\n",
       "\n",
       "    .dataframe thead th {\n",
       "        text-align: right;\n",
       "    }\n",
       "</style>\n",
       "<table border=\"1\" class=\"dataframe\">\n",
       "  <thead>\n",
       "    <tr style=\"text-align: right;\">\n",
       "      <th></th>\n",
       "      <th>Topic ID</th>\n",
       "      <th></th>\n",
       "      <th>Doc ID</th>\n",
       "      <th>Grade</th>\n",
       "    </tr>\n",
       "  </thead>\n",
       "  <tbody>\n",
       "    <tr>\n",
       "      <th>0</th>\n",
       "      <td>19335</td>\n",
       "      <td>Q0</td>\n",
       "      <td>1017759</td>\n",
       "      <td>0</td>\n",
       "    </tr>\n",
       "    <tr>\n",
       "      <th>1</th>\n",
       "      <td>19335</td>\n",
       "      <td>Q0</td>\n",
       "      <td>1082489</td>\n",
       "      <td>0</td>\n",
       "    </tr>\n",
       "    <tr>\n",
       "      <th>2</th>\n",
       "      <td>19335</td>\n",
       "      <td>Q0</td>\n",
       "      <td>109063</td>\n",
       "      <td>0</td>\n",
       "    </tr>\n",
       "    <tr>\n",
       "      <th>3</th>\n",
       "      <td>19335</td>\n",
       "      <td>Q0</td>\n",
       "      <td>1160863</td>\n",
       "      <td>0</td>\n",
       "    </tr>\n",
       "    <tr>\n",
       "      <th>4</th>\n",
       "      <td>19335</td>\n",
       "      <td>Q0</td>\n",
       "      <td>1160871</td>\n",
       "      <td>0</td>\n",
       "    </tr>\n",
       "  </tbody>\n",
       "</table>\n",
       "</div>"
      ],
      "text/plain": [
       "  Topic ID       Doc ID  Grade\n",
       "0    19335  Q0  1017759      0\n",
       "1    19335  Q0  1082489      0\n",
       "2    19335  Q0   109063      0\n",
       "3    19335  Q0  1160863      0\n",
       "4    19335  Q0  1160871      0"
      ]
     },
     "execution_count": 121,
     "metadata": {},
     "output_type": "execute_result"
    }
   ],
   "source": [
    "import pandas as pd\n",
    "\n",
    "path = \"D:/python/anserini/src/main/resources/topics-and-qrels/\"\n",
    "topics_path = \"topics.dl19-passage.txt\"\n",
    "qrels_path = \"qrels.dl19-passage.txt\"\n",
    "\n",
    "topics = pd.read_csv(path+topics_path,sep=\"\\t\",names=[\"ID\",\"Question\"])\n",
    "topics[\"ID\"]= topics[\"ID\"].astype(str)\n",
    "\n",
    "qrels = pd.read_csv(path+qrels_path,sep=\" \",names=[\"Topic ID\",\"\",\"Doc ID\",\"Grade\"])\n",
    "qrels = qrels.astype({\"Topic ID\": str, \"Doc ID\": str})\n",
    "qrels[\"Topic ID\"] = qrels[\"Topic ID\"].astype(str)\n",
    "qrels[\"Doc ID\"] = qrels[\"Doc ID\"].astype(str)\n",
    "\n",
    "qrels.head()"
   ]
  },
  {
   "cell_type": "code",
   "execution_count": 69,
   "metadata": {},
   "outputs": [
    {
     "data": {
      "text/html": [
       "<div>\n",
       "<style scoped>\n",
       "    .dataframe tbody tr th:only-of-type {\n",
       "        vertical-align: middle;\n",
       "    }\n",
       "\n",
       "    .dataframe tbody tr th {\n",
       "        vertical-align: top;\n",
       "    }\n",
       "\n",
       "    .dataframe thead th {\n",
       "        text-align: right;\n",
       "    }\n",
       "</style>\n",
       "<table border=\"1\" class=\"dataframe\">\n",
       "  <thead>\n",
       "    <tr style=\"text-align: right;\">\n",
       "      <th></th>\n",
       "      <th>ID</th>\n",
       "      <th>Question</th>\n",
       "    </tr>\n",
       "  </thead>\n",
       "  <tbody>\n",
       "    <tr>\n",
       "      <th>0</th>\n",
       "      <td>156493</td>\n",
       "      <td>do goldfish grow</td>\n",
       "    </tr>\n",
       "    <tr>\n",
       "      <th>1</th>\n",
       "      <td>1110199</td>\n",
       "      <td>what is wifi vs bluetooth</td>\n",
       "    </tr>\n",
       "    <tr>\n",
       "      <th>2</th>\n",
       "      <td>1063750</td>\n",
       "      <td>why did the us volunterilay enter ww1</td>\n",
       "    </tr>\n",
       "    <tr>\n",
       "      <th>3</th>\n",
       "      <td>130510</td>\n",
       "      <td>definition declaratory judgment</td>\n",
       "    </tr>\n",
       "    <tr>\n",
       "      <th>4</th>\n",
       "      <td>489204</td>\n",
       "      <td>right pelvic pain causes</td>\n",
       "    </tr>\n",
       "  </tbody>\n",
       "</table>\n",
       "</div>"
      ],
      "text/plain": [
       "        ID                               Question\n",
       "0   156493                       do goldfish grow\n",
       "1  1110199              what is wifi vs bluetooth\n",
       "2  1063750  why did the us volunterilay enter ww1\n",
       "3   130510        definition declaratory judgment\n",
       "4   489204               right pelvic pain causes"
      ]
     },
     "execution_count": 69,
     "metadata": {},
     "output_type": "execute_result"
    }
   ],
   "source": [
    "topics.head()"
   ]
  },
  {
   "cell_type": "code",
   "execution_count": 175,
   "metadata": {},
   "outputs": [
    {
     "name": "stdout",
     "output_type": "stream",
     "text": [
      "Question: do goldfish grow\n",
      "#  ID              Score\tRel\tContent\n",
      " 1 3288600         1.98930\t2\tA goldfish will grow to the depth of the water it is kept in. If the tank is not large enough to allow the goldfish to grow, it's growth will be stunt...\n",
      " 2 8182166         1.97730\t2\tHow big do goldfish grow? Are Koi considered big gold fish? I saw a photo of a goldfish that LOOKED like a goldfish, found in a lake. It was like 2-1/...\n",
      " 3 3288596         1.96860\t2\tIf the tank is not large enough to allow the goldfish to grow, it's growth will be stunted and this can cause the fish to become unhealthy and die. Th...\n",
      " 4 1960255         1.87810\t2\tRating Newest Oldest. Best Answer: Goldfish do not grow to the size of their tank, that is a myth. Goldfish grow until they are at their mature size, ...\n",
      " 5 2612492         1.86470\t2\tThe genetics (DNA) of the goldfish parents passed on to their offspring. How fast do goldfish grow is really a tough question to answer really. As men...\n",
      " 6 2411918         1.80900\t2\tGoldfish Size and Life Expectancy. If kept in a suitable environment, single tail goldfish normally grow to 10 inches (25cm) and can sometimes reach 1...\n",
      " 7 6139386         1.80050\t3\tA: The conditions goldfish are kept in plus their diet determine how large they will grow. I have seen goldfish grow ridiculously large in very small ...\n",
      " 8 3288598         1.78440\t2\tHow fast do goldfish grow is really a tough question to answer really. As mentioned above these factors will influence the growth potential of your go...\n",
      " 9 8393766         1.78160\t2\tDon't Put Goldfish in a Fish Bowl. You can put a maximum of only one 1 long goldfish in a one-gallon fish bowl, and it usually will not do well. If it...\n",
      "10 8182159         1.75440\t2\t'Goldfish usually grow with their environment so if they are in a large space and are fed enough, they do sometimes just keep growing. 'If you went an...\n",
      "11 6139382         1.73640\t2\tCommon goldfish, comet goldfish, and other single tail goldfish need ponds or huge tanks as they can grow up to a foot or more in length. Do not get s...\n",
      "12 2259182         1.71960\t2\tCommon goldfish, comet goldfish, and other single tail goldfish need ponds or huge tanks as they can grow up to a foot or more in length. Do not get s...\n",
      "13 885944          1.71930\t2\tPeople are usually surprised at both the normal life expectancy and size that goldfish reach. Goldfish Size and Life Expectancy. If kept in a suitable...\n",
      "14 2317807         1.71680\t2\tGoldfish Size and Life Expectancy. If kept in a suitable environment, single tail goldfish normally grow to 10 inches (25cm) and can sometimes reach 1...\n",
      "15 2259180         1.71470\t2\tGet a large enough tank. The minimum tank size for one goldfish is 10-15 US gallons (56.7 liters)(Remember, they grow to about 10-12 inches (25.5-30.5...\n",
      "16 2949801         1.69630\t2\tGoldfish Size and Life Expectancy. If kept in a suitable environment, single tail goldfish normally grow to 10 inches (25cm) and can sometimes reach 1...\n",
      "17 3288597         1.69630\t2\tYou will see your goldfish grow fast. The goldfish food that you feed them plays a part in their growth as well. If you want your goldfish to grow fas...\n",
      "18 8029433         1.69030\t2\tFor example, koi are larger than goldfish. They have long, lean bodies and can grow to be 2-3 feet long! Even when in the wild, goldfish grow to be no...\n",
      "19 2259183         1.68870\t2\tA large tank gives your goldfish plenty of room to grow to their full potential. In a small 5-gallon aquarium, your goldfish will still grow. But grow...\n",
      "21 1960260         1.68230\t2\tReport Abuse. Fish do not grow to the size of their tank, that is a wrong. Goldfish grow until they are at their mature size, but being in a small tan...\n",
      "22 4940228         1.66310\t2\tThe Common Goldfish is an omnivourus goldfish species.It is very docile and is often fed vegetable food.The Common Goldfish can grow up to be 40 inche...\n",
      "23 8182165         1.66290\t2\tGoldfish may grow to a maximum length of 23 inches (59 cm) and a maximum weight of 9.9 pounds (4.5 kg), although this is rare; most individual goldfis...\n",
      "24 95514           1.65870\t2\tFancy goldfish typically grow to 8 inches, while single tail goldfish grow to 10 and sometimes up to 12 inches in length. It's rare for domestic goldf...\n",
      "25 2949802         1.64570\t2\tIf kept in a suitable environment, single tail goldfish normally grow to 10 inches (25cm) and can sometimes reach 12 inches (30cm). Fancy goldfish nor...\n"
     ]
    }
   ],
   "source": [
    "from pyserini.search import SimpleSearcher\n",
    "\n",
    "#searcher = SimpleSearcher('indexes/index-robust04-20191213/')\n",
    "searcher = SimpleSearcher('D:/python/anserini/indexes/index-msmarco-passage-20191117-0ed488')\n",
    "hits = searcher.search('do goldfish grow')\n",
    "\n",
    "searcher.set_bm25(0.9, 0.4)\n",
    "searcher.set_rm3(10, 10, 0.5,rm3_output_query=True)\n",
    "\n",
    "k = 25\n",
    "topicrow = 0\n",
    "topicid = topics.iloc[topicrow][\"ID\"]\n",
    "question = topics.iloc[topicrow][\"Question\"]\n",
    "hits = searcher.search(question, k=k)\n",
    "ids = []\n",
    "\n",
    "print(\"Question: \"+question)\n",
    "\n",
    "print(f\"{'#':2} {'ID':15} Score\\tRel\\tContent\")\n",
    "# Print the first 10 hits:\n",
    "for i in range(0, k):\n",
    "    rel = qrels.loc[(qrels['Doc ID'] == hits[i].docid) & (qrels['Topic ID'] == topicid)][\"Grade\"].values\n",
    "    if rel.size == 0:\n",
    "        continue\n",
    "    print(f'{i+1:2} {hits[i].docid:15} {hits[i].score:.5f}\\t{rel[0]}\\t{searcher.doc(hits[i].docid).raw()[:150]}...')\n",
    "    ids.append(hits[i].docid)\n",
    "searcher.unset_rm3()\n",
    "\n"
   ]
  },
  {
   "cell_type": "code",
   "execution_count": 202,
   "metadata": {},
   "outputs": [],
   "source": [
    "positive = qrels[(qrels['Topic ID'] == topicid) & (qrels['Doc ID'].isin(ids))]\n",
    "negative = qrels[(qrels['Topic ID'] == topicid) & (~qrels['Doc ID'].isin(ids))]"
   ]
  },
  {
   "cell_type": "code",
   "execution_count": 210,
   "metadata": {},
   "outputs": [],
   "source": [
    "tp = positive[positive['Grade']>0].shape[0]\n",
    "fp = positive[positive['Grade']==0].shape[0]\n",
    "fn = negative[negative['Grade']>0].shape[0]\n",
    "tn = negative[negative['Grade']==0].shape[0]"
   ]
  },
  {
   "cell_type": "code",
   "execution_count": 219,
   "metadata": {},
   "outputs": [
    {
     "data": {
      "text/plain": [
       "1.0"
      ]
     },
     "execution_count": 219,
     "metadata": {},
     "output_type": "execute_result"
    }
   ],
   "source": [
    "precision = tp/(tp+fp)\n",
    "precision"
   ]
  },
  {
   "cell_type": "code",
   "execution_count": 220,
   "metadata": {},
   "outputs": [
    {
     "data": {
      "text/plain": [
       "0.18045112781954886"
      ]
     },
     "execution_count": 220,
     "metadata": {},
     "output_type": "execute_result"
    }
   ],
   "source": [
    "recall = tp/(tp+fn)\n",
    "recall"
   ]
  },
  {
   "cell_type": "code",
   "execution_count": 222,
   "metadata": {},
   "outputs": [
    {
     "data": {
      "text/plain": [
       "0.3057324840764331"
      ]
     },
     "execution_count": 222,
     "metadata": {},
     "output_type": "execute_result"
    }
   ],
   "source": [
    "f1 = 2 * precision * recall / (precision+recall)\n",
    "f1"
   ]
  },
  {
   "cell_type": "code",
   "execution_count": 207,
   "metadata": {},
   "outputs": [
    {
     "data": {
      "text/html": [
       "<div>\n",
       "<style scoped>\n",
       "    .dataframe tbody tr th:only-of-type {\n",
       "        vertical-align: middle;\n",
       "    }\n",
       "\n",
       "    .dataframe tbody tr th {\n",
       "        vertical-align: top;\n",
       "    }\n",
       "\n",
       "    .dataframe thead th {\n",
       "        text-align: right;\n",
       "    }\n",
       "</style>\n",
       "<table border=\"1\" class=\"dataframe\">\n",
       "  <thead>\n",
       "    <tr style=\"text-align: right;\">\n",
       "      <th></th>\n",
       "      <th>Topic ID</th>\n",
       "      <th></th>\n",
       "      <th>Doc ID</th>\n",
       "      <th>Grade</th>\n",
       "    </tr>\n",
       "  </thead>\n",
       "  <tbody>\n",
       "    <tr>\n",
       "      <th>1502</th>\n",
       "      <td>156493</td>\n",
       "      <td>Q0</td>\n",
       "      <td>1034435</td>\n",
       "      <td>1</td>\n",
       "    </tr>\n",
       "    <tr>\n",
       "      <th>1503</th>\n",
       "      <td>156493</td>\n",
       "      <td>Q0</td>\n",
       "      <td>1101607</td>\n",
       "      <td>2</td>\n",
       "    </tr>\n",
       "    <tr>\n",
       "      <th>1504</th>\n",
       "      <td>156493</td>\n",
       "      <td>Q0</td>\n",
       "      <td>1113693</td>\n",
       "      <td>0</td>\n",
       "    </tr>\n",
       "    <tr>\n",
       "      <th>1505</th>\n",
       "      <td>156493</td>\n",
       "      <td>Q0</td>\n",
       "      <td>1171591</td>\n",
       "      <td>0</td>\n",
       "    </tr>\n",
       "    <tr>\n",
       "      <th>1506</th>\n",
       "      <td>156493</td>\n",
       "      <td>Q0</td>\n",
       "      <td>117188</td>\n",
       "      <td>0</td>\n",
       "    </tr>\n",
       "    <tr>\n",
       "      <th>...</th>\n",
       "      <td>...</td>\n",
       "      <td>...</td>\n",
       "      <td>...</td>\n",
       "      <td>...</td>\n",
       "    </tr>\n",
       "    <tr>\n",
       "      <th>1797</th>\n",
       "      <td>156493</td>\n",
       "      <td>Q0</td>\n",
       "      <td>95519</td>\n",
       "      <td>2</td>\n",
       "    </tr>\n",
       "    <tr>\n",
       "      <th>1798</th>\n",
       "      <td>156493</td>\n",
       "      <td>Q0</td>\n",
       "      <td>95521</td>\n",
       "      <td>2</td>\n",
       "    </tr>\n",
       "    <tr>\n",
       "      <th>1799</th>\n",
       "      <td>156493</td>\n",
       "      <td>Q0</td>\n",
       "      <td>994482</td>\n",
       "      <td>0</td>\n",
       "    </tr>\n",
       "    <tr>\n",
       "      <th>1800</th>\n",
       "      <td>156493</td>\n",
       "      <td>Q0</td>\n",
       "      <td>994486</td>\n",
       "      <td>2</td>\n",
       "    </tr>\n",
       "    <tr>\n",
       "      <th>1801</th>\n",
       "      <td>156493</td>\n",
       "      <td>Q0</td>\n",
       "      <td>994488</td>\n",
       "      <td>0</td>\n",
       "    </tr>\n",
       "  </tbody>\n",
       "</table>\n",
       "<p>300 rows × 4 columns</p>\n",
       "</div>"
      ],
      "text/plain": [
       "     Topic ID       Doc ID  Grade\n",
       "1502   156493  Q0  1034435      1\n",
       "1503   156493  Q0  1101607      2\n",
       "1504   156493  Q0  1113693      0\n",
       "1505   156493  Q0  1171591      0\n",
       "1506   156493  Q0   117188      0\n",
       "...       ...  ..      ...    ...\n",
       "1797   156493  Q0    95519      2\n",
       "1798   156493  Q0    95521      2\n",
       "1799   156493  Q0   994482      0\n",
       "1800   156493  Q0   994486      2\n",
       "1801   156493  Q0   994488      0\n",
       "\n",
       "[300 rows x 4 columns]"
      ]
     },
     "execution_count": 207,
     "metadata": {},
     "output_type": "execute_result"
    }
   ],
   "source": [
    "total = qrels[(qrels['Topic ID'] == topicid)]\n",
    "total"
   ]
  }
 ],
 "metadata": {
  "kernelspec": {
   "display_name": "Python 3.7.8",
   "language": "python",
   "name": "python37"
  },
  "language_info": {
   "codemirror_mode": {
    "name": "ipython",
    "version": 3
   },
   "file_extension": ".py",
   "mimetype": "text/x-python",
   "name": "python",
   "nbconvert_exporter": "python",
   "pygments_lexer": "ipython3",
   "version": "3.7.8"
  }
 },
 "nbformat": 4,
 "nbformat_minor": 4
}
